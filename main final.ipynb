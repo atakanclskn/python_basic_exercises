{
 "cells": [
  {
   "cell_type": "code",
   "execution_count": 6,
   "id": "63b617ce",
   "metadata": {},
   "outputs": [],
   "source": [
    "import warnings\n",
    "\n",
    "# Uyarılar gelmesin\n",
    "warnings.filterwarnings('ignore')"
   ]
  },
  {
   "cell_type": "code",
   "execution_count": 7,
   "id": "65f44753",
   "metadata": {},
   "outputs": [
    {
     "name": "stdout",
     "output_type": "stream",
     "text": [
      "Rastgele Matris:\n",
      "[[18  1]\n",
      " [ 9  3]\n",
      " [ 4 20]\n",
      " [16 13]\n",
      " [18  3]\n",
      " [ 5 15]\n",
      " [13 17]\n",
      " [10 18]\n",
      " [19 12]\n",
      " [ 1 18]]\n"
     ]
    }
   ],
   "source": [
    "import numpy as np\n",
    "\n",
    "# [0-20] arasında rastgele 10x2 boyutunda matris oluşturma\n",
    "matris = np.random.randint(0, 21, size=(10, 2))\n",
    "\n",
    "# Matrisi ekrana yazdırma\n",
    "print(\"Rastgele Matris:\")\n",
    "print(matris)"
   ]
  },
  {
   "cell_type": "code",
   "execution_count": 41,
   "id": "754b9da1",
   "metadata": {},
   "outputs": [
    {
     "name": "stdout",
     "output_type": "stream",
     "text": [
      "Orijinal  (m):\n",
      "[[ 0  1  2  3  4  5]\n",
      " [ 6  7  8  9 10 11]\n",
      " [12 13 14 15 16 17]\n",
      " [18 19 20 21 22 23]\n",
      " [24 25 26 27 28 29]]\n",
      "\n",
      " a (2. sütun):\n",
      "[[ 1]\n",
      " [ 7]\n",
      " [13]\n",
      " [19]\n",
      " [25]]\n",
      "\n",
      " b (4. sütun):\n",
      "[[ 3]\n",
      " [ 9]\n",
      " [15]\n",
      " [21]\n",
      " [27]]\n",
      "\n",
      " c (2 ve 4. sütunlar):\n",
      "[[ 1  3]\n",
      " [ 7  9]\n",
      " [13 15]\n",
      " [19 21]\n",
      " [25 27]]\n"
     ]
    }
   ],
   "source": [
    "import numpy as np\n",
    "\n",
    "# 5x6 boyutunda matris \n",
    "m = np.arange(30).reshape(5, 6)\n",
    "\n",
    "# 2 ve 4 numaralı sütunları seçme \n",
    "a = m[:, [1]]\n",
    "b = m[:, [3]]  \n",
    "\n",
    "# 3.matris c 2 ve 4 numaralı sütunların birleştirilmesiyle oluşturuluyor\n",
    "c = m[:, [1, 3]]\n",
    "\n",
    "# Sonuçları yazdırma\n",
    "print(\"Orijinal  (m):\")\n",
    "print(m)\n",
    "\n",
    "print(\"\\n a (2. sütun):\")\n",
    "print(a)\n",
    "\n",
    "print(\"\\n b (4. sütun):\")\n",
    "print(b)\n",
    "\n",
    "print(\"\\n c (2 ve 4. sütunlar):\")\n",
    "print(c)"
   ]
  },
  {
   "cell_type": "code",
   "execution_count": 9,
   "id": "63331f44",
   "metadata": {},
   "outputs": [
    {
     "name": "stdout",
     "output_type": "stream",
     "text": [
      "Orijinal(m):\n",
      "[[ 0  1  2  3  4  5]\n",
      " [ 6  7  8  9 10 11]\n",
      " [12 13 14 15 16 17]\n",
      " [18 19 20 21 22 23]\n",
      " [24 25 26 27 28 29]]\n",
      "\n",
      "a (3. satır):\n",
      "[12 13 14 15 16 17]\n",
      "\n",
      "b (3. satır çıkarılmış hali):\n",
      "[[ 0  1  2  3  4  5]\n",
      " [ 6  7  8  9 10 11]\n",
      " [18 19 20 21 22 23]\n",
      " [24 25 26 27 28 29]]\n"
     ]
    }
   ],
   "source": [
    "import numpy as np\n",
    "\n",
    "# 5x6 boyutunda matris\n",
    "m = np.arange(30).reshape(5, 6)\n",
    "\n",
    "# 3. satırı seçme\n",
    "a = m[2, :]  \n",
    "b = np.delete(m, 2, axis=0)  \n",
    "# Sonuçları yazdırma\n",
    "print(\"Orijinal(m):\")\n",
    "print(m)\n",
    "\n",
    "print(\"\\na (3. satır):\")\n",
    "print(a)\n",
    "\n",
    "print(\"\\nb (3. satır çıkarılmış hali):\")\n",
    "print(b)\n"
   ]
  },
  {
   "cell_type": "code",
   "execution_count": 10,
   "id": "2a688c93",
   "metadata": {},
   "outputs": [
    {
     "name": "stdout",
     "output_type": "stream",
     "text": [
      "Oluşturulan DataFrame:\n",
      "   sutun1  sutun2\n",
      "0      10      10\n",
      "1       8       8\n",
      "2       8       4\n",
      "3       1       4\n",
      "4      19       8\n",
      "5      17      12\n",
      "6      18       9\n",
      "7       7      11\n",
      "8       7      13\n",
      "9      17       3\n"
     ]
    }
   ],
   "source": [
    "import numpy as np\n",
    "import pandas as pd\n",
    "\n",
    "# Rastgele 10x2 boyutunda matris oluşturma\n",
    "a = np.random.randint(0, 20, (10, 2))\n",
    "\n",
    "# DataFrame'e dönüştürme\n",
    "df = pd.DataFrame(a, columns=[\"sutun1\", \"sutun2\"])\n",
    "\n",
    "# DataFrame'i yazdırma\n",
    "print(\"Oluşturulan DataFrame:\")\n",
    "print(df)"
   ]
  },
  {
   "cell_type": "code",
   "execution_count": 11,
   "id": "ff51a2fb",
   "metadata": {},
   "outputs": [
    {
     "name": "stdout",
     "output_type": "stream",
     "text": [
      "İndeksleri değiştirilmiş DF:\n",
      "     s1  s2\n",
      "i1    6   0\n",
      "i2   19  18\n",
      "i3    7  11\n",
      "i4   16   1\n",
      "i5   11   2\n",
      "i6   12   8\n",
      "i7   16   8\n",
      "i8   16   6\n",
      "i9    3   6\n",
      "i10  11  17\n"
     ]
    }
   ],
   "source": [
    "import numpy as np\n",
    "import pandas as pd\n",
    "\n",
    "# Rastgele 10x2 boyutunda matris \n",
    "a = np.random.randint(0, 20, (10, 2))\n",
    "\n",
    "# DataFrame\n",
    "df = pd.DataFrame(a, columns=[\"s1\", \"s2\"])\n",
    "\n",
    "# Yeni indeks \n",
    "df.index = [f\"i{i}\" for i in range(1, 11)]\n",
    "\n",
    "# DataFramei yazdırma\n",
    "print(\"İndeksleri değiştirilmiş DF:\")\n",
    "print(df)\n"
   ]
  },
  {
   "cell_type": "code",
   "execution_count": 12,
   "id": "f6a69b55",
   "metadata": {},
   "outputs": [
    {
     "name": "stdout",
     "output_type": "stream",
     "text": [
      "{'A': {'D': [1, 2]}, 'B': {'E': [3, 100, 5]}, 'C': ['F', 6]}\n"
     ]
    }
   ],
   "source": [
    "sozluk = {\"A\": {\"D\": [1, 2]}, \"B\": {\"E\": [3, 99, 5]}, \"C\": [\"F\", 6]}\n",
    "\n",
    "# 99 değerini 100 olarak değiştirme\n",
    "sozluk[\"B\"][\"E\"][1] = 100\n",
    "\n",
    "# Güncellenmiş sözlüğü yazdırma\n",
    "print(sozluk)"
   ]
  },
  {
   "cell_type": "code",
   "execution_count": 13,
   "id": "4d6aedef",
   "metadata": {},
   "outputs": [
    {
     "name": "stdout",
     "output_type": "stream",
     "text": [
      "Numpy Dizisi:\n",
      "[ 1  2  3  4  5  6  7  8  9 10]\n",
      "\n",
      "5x2 Matris:\n",
      "[[ 1  2]\n",
      " [ 3  4]\n",
      " [ 5  6]\n",
      " [ 7  8]\n",
      " [ 9 10]]\n"
     ]
    }
   ],
   "source": [
    "import numpy as np\n",
    "\n",
    "# 1 ile 10 dahil ardışık tam sayılardan oluşan numpy dizisi\n",
    "dizi = np.arange(1, 11)\n",
    "\n",
    "# 5 satır ve 2 sütundan oluşan matris\n",
    "matris = dizi.reshape(5, 2)\n",
    "\n",
    "# Sonuçları yazdırma\n",
    "print(\"Numpy Dizisi:\")\n",
    "print(dizi)\n",
    "\n",
    "print(\"\\n5x2 Matris:\")\n",
    "print(matris)\n"
   ]
  },
  {
   "cell_type": "code",
   "execution_count": 14,
   "id": "978e146f",
   "metadata": {},
   "outputs": [
    {
     "name": "stdout",
     "output_type": "stream",
     "text": [
      "DataFrame:\n",
      "   sutun1  sutun2  toplam\n",
      "0       1       2       3\n",
      "1       3       4       7\n",
      "2       5       6      11\n",
      "3       7       8      15\n",
      "4       9      10      19\n"
     ]
    }
   ],
   "source": [
    "import numpy as np\n",
    "import pandas as pd\n",
    "\n",
    "# 1 ile 10 dahil ardışık tam sayılardan oluşan numpy dizisini 5x2 matrise dönüştürme\n",
    "dizi = np.arange(1, 11).reshape(5, 2)\n",
    "\n",
    "# DataFrame'e dönüştürme\n",
    "df = pd.DataFrame(dizi, columns=[\"sutun1\", \"sutun2\"])\n",
    "\n",
    "# \"sutun1\" ve \"sutun2\" toplamlarından oluşan yeni sütun ekleme\n",
    "df[\"toplam\"] = df[\"sutun1\"] + df[\"sutun2\"]\n",
    "\n",
    "# Sonuçları yazdırma\n",
    "print(\"DataFrame:\")\n",
    "print(df)"
   ]
  },
  {
   "cell_type": "code",
   "execution_count": 15,
   "id": "d92eba9e",
   "metadata": {},
   "outputs": [
    {
     "name": "stdout",
     "output_type": "stream",
     "text": [
      "Dizi a:\n",
      "[1 2 3 4]\n",
      "\n",
      "Dizi b:\n",
      "[5 6 7 8]\n",
      "\n",
      "2 Boyutlu Matris c:\n",
      "[[1 2 3 4]\n",
      " [5 6 7 8]]\n"
     ]
    }
   ],
   "source": [
    "import numpy as np\n",
    "\n",
    "# İki adet numpy dizisi oluşturma\n",
    "a = np.array([1, 2, 3, 4])\n",
    "b = np.array([5, 6, 7, 8])\n",
    "\n",
    "# Bu dizileri birleştirerek 2 boyutlu bir matris oluşturma\n",
    "c = np.vstack([a, b])\n",
    "\n",
    "# Sonuçları yazdırma\n",
    "print(\"Dizi a:\")\n",
    "print(a)\n",
    "\n",
    "print(\"\\nDizi b:\")\n",
    "print(b)\n",
    "\n",
    "print(\"\\n2 Boyutlu Matris c:\")\n",
    "print(c)\n"
   ]
  },
  {
   "cell_type": "code",
   "execution_count": 16,
   "id": "28ef830b",
   "metadata": {},
   "outputs": [
    {
     "name": "stdout",
     "output_type": "stream",
     "text": [
      "Rastgele Oluşturulan Dizi:\n",
      "[16 12 11 19 10 16 20 11 13 10]\n",
      "\n",
      "Dizinin Ortalaması: 13.8\n",
      "\n",
      "Ortalamanın Üzerindeki Sayılar:\n",
      "[16 19 16 20]\n"
     ]
    }
   ],
   "source": [
    "import numpy as np\n",
    "\n",
    "# 10 ile 20 arasında 10 adet rastgele tam sayıdan oluşan numpy dizisi oluşturma\n",
    "dizi = np.random.randint(10, 21, size=10)\n",
    "\n",
    "# Dizinin ortalamasını hesaplama\n",
    "ortalama = np.mean(dizi)\n",
    "\n",
    "# Ortalamadan büyük olan sayılardan oluşan listeyi oluşturma\n",
    "buyuk_sayilar = dizi[dizi > ortalama]\n",
    "\n",
    "# Sonuçları yazdırma\n",
    "print(\"Rastgele Oluşturulan Dizi:\")\n",
    "print(dizi)\n",
    "\n",
    "print(\"\\nDizinin Ortalaması:\", ortalama)\n",
    "\n",
    "print(\"\\nOrtalamanın Üzerindeki Sayılar:\")\n",
    "print(buyuk_sayilar)\n"
   ]
  },
  {
   "cell_type": "code",
   "execution_count": 17,
   "id": "af36082b",
   "metadata": {},
   "outputs": [
    {
     "name": "stdout",
     "output_type": "stream",
     "text": [
      "Orijinal Dizi:\n",
      "[-40 -36  40   3  40  50 -45 -13  -9 -38]\n",
      "\n",
      "Z-score Normalleştirilmiş Dizi (b):\n",
      "[-1.01219658 -0.89717424  1.28825019  0.22429356  1.28825019  1.57580603\n",
      " -1.1559745  -0.23579579 -0.12077345 -0.95468541]\n"
     ]
    }
   ],
   "source": [
    "import numpy as np\n",
    "\n",
    "# -50 ile 50 arasında 10 elemanlık rastgele bir numpy dizisi oluşturma\n",
    "dizi = np.random.randint(-50, 51, size=10)\n",
    "\n",
    "# Z-score normalizasyonu\n",
    "ortalama = np.mean(dizi)\n",
    "std_sapma = np.std(dizi)\n",
    "b = (dizi - ortalama) / std_sapma\n",
    "\n",
    "# Sonuçları yazdırma\n",
    "print(\"Orijinal Dizi:\")\n",
    "print(dizi)\n",
    "\n",
    "print(\"\\nZ-score Normalleştirilmiş Dizi (b):\")\n",
    "print(b)"
   ]
  },
  {
   "cell_type": "code",
   "execution_count": 18,
   "id": "222a561a",
   "metadata": {},
   "outputs": [
    {
     "name": "stdout",
     "output_type": "stream",
     "text": [
      "Gruplara Göre Veri Ortalamaları:\n",
      "gruplar\n",
      "A    16.5\n",
      "B    27.0\n",
      "C    53.5\n",
      "Name: veri, dtype: float64\n"
     ]
    }
   ],
   "source": [
    "import pandas as pd\n",
    "\n",
    "# DataFrame oluşturma\n",
    "df = pd.DataFrame({'gruplar': ['A', 'B', 'C', 'A', 'B', 'C'],\n",
    "                   'veri': [10, 11, 52, 23, 43, 55]}, columns=['gruplar', 'veri'])\n",
    "\n",
    "# Gruplara göre veri ortalamalarını hesaplama\n",
    "ortalama_tablo = df.groupby('gruplar')['veri'].mean()\n",
    "\n",
    "# Sonucu yazdırma\n",
    "print(\"Gruplara Göre Veri Ortalamaları:\")\n",
    "print(ortalama_tablo)"
   ]
  },
  {
   "cell_type": "code",
   "execution_count": 19,
   "id": "c8c09a14",
   "metadata": {},
   "outputs": [
    {
     "name": "stdout",
     "output_type": "stream",
     "text": [
      "      mpg  cylinders  displacement  horsepower  weight  acceleration  \\\n",
      "0    18.0          8         307.0       130.0    3504          12.0   \n",
      "1    15.0          8         350.0       165.0    3693          11.5   \n",
      "2    18.0          8         318.0       150.0    3436          11.0   \n",
      "3    16.0          8         304.0       150.0    3433          12.0   \n",
      "4    17.0          8         302.0       140.0    3449          10.5   \n",
      "..    ...        ...           ...         ...     ...           ...   \n",
      "393  27.0          4         140.0        86.0    2790          15.6   \n",
      "394  44.0          4          97.0        52.0    2130          24.6   \n",
      "395  32.0          4         135.0        84.0    2295          11.6   \n",
      "396  28.0          4         120.0        79.0    2625          18.6   \n",
      "397  31.0          4         119.0        82.0    2720          19.4   \n",
      "\n",
      "     model_year  origin                       name  \n",
      "0            70     usa  chevrolet chevelle malibu  \n",
      "1            70     usa          buick skylark 320  \n",
      "2            70     usa         plymouth satellite  \n",
      "3            70     usa              amc rebel sst  \n",
      "4            70     usa                ford torino  \n",
      "..          ...     ...                        ...  \n",
      "393          82     usa            ford mustang gl  \n",
      "394          82  europe                  vw pickup  \n",
      "395          82     usa              dodge rampage  \n",
      "396          82     usa                ford ranger  \n",
      "397          82     usa                 chevy s-10  \n",
      "\n",
      "[398 rows x 9 columns]\n"
     ]
    }
   ],
   "source": [
    "#14. “;” karakterleri ile ayrılmış veriler içeren dış kaynaklı “veri.csv” dosyasını \n",
    "#    bir dataframe’e okumak için komutu yazınız\n",
    "\n",
    "import pandas as pd\n",
    "import seaborn as sns\n",
    "\n",
    "# Seaborn'dan 'mpg' veri kümesini yükleme\n",
    "mpg = sns.load_dataset('mpg')\n",
    "\n",
    "# Veri kümesini 'mpg.csv' adında bir CSV dosyasına yazma\n",
    "mpg.to_csv('veri.csv', sep=';', index=False)\n",
    "\n",
    "# Yazılan CSV dosyasını okuma\n",
    "df = pd.read_csv('veri.csv', sep=';')\n",
    "\n",
    "# DataFrame'i yazdırma\n",
    "print(df)\n",
    "\n"
   ]
  },
  {
   "cell_type": "code",
   "execution_count": 20,
   "id": "0e83d502",
   "metadata": {},
   "outputs": [
    {
     "name": "stdout",
     "output_type": "stream",
     "text": [
      "MERHABA\n"
     ]
    }
   ],
   "source": [
    "def funk(kelime):\n",
    "    return kelime.upper()\n",
    "\n",
    "# Fonksiyonu test etme\n",
    "kelime = \"merhaba\"\n",
    "print(funk(kelime))"
   ]
  },
  {
   "cell_type": "code",
   "execution_count": 21,
   "id": "bed5c6b4",
   "metadata": {},
   "outputs": [
    {
     "name": "stdout",
     "output_type": "stream",
     "text": [
      "Veri Seti Bilgileri:\n",
      "<class 'pandas.core.frame.DataFrame'>\n",
      "RangeIndex: 398 entries, 0 to 397\n",
      "Data columns (total 9 columns):\n",
      " #   Column        Non-Null Count  Dtype  \n",
      "---  ------        --------------  -----  \n",
      " 0   mpg           398 non-null    float64\n",
      " 1   cylinders     398 non-null    int64  \n",
      " 2   displacement  398 non-null    float64\n",
      " 3   horsepower    392 non-null    float64\n",
      " 4   weight        398 non-null    int64  \n",
      " 5   acceleration  398 non-null    float64\n",
      " 6   model_year    398 non-null    int64  \n",
      " 7   origin        398 non-null    object \n",
      " 8   name          398 non-null    object \n",
      "dtypes: float64(4), int64(3), object(2)\n",
      "memory usage: 28.1+ KB\n",
      "None\n",
      "\n",
      "Veri Setinin İlk 10 Satırı:\n",
      "    mpg  cylinders  displacement  horsepower  weight  acceleration  \\\n",
      "0  18.0          8         307.0       130.0    3504          12.0   \n",
      "1  15.0          8         350.0       165.0    3693          11.5   \n",
      "2  18.0          8         318.0       150.0    3436          11.0   \n",
      "3  16.0          8         304.0       150.0    3433          12.0   \n",
      "4  17.0          8         302.0       140.0    3449          10.5   \n",
      "5  15.0          8         429.0       198.0    4341          10.0   \n",
      "6  14.0          8         454.0       220.0    4354           9.0   \n",
      "7  14.0          8         440.0       215.0    4312           8.5   \n",
      "8  14.0          8         455.0       225.0    4425          10.0   \n",
      "9  15.0          8         390.0       190.0    3850           8.5   \n",
      "\n",
      "   model_year origin                       name  \n",
      "0          70    usa  chevrolet chevelle malibu  \n",
      "1          70    usa          buick skylark 320  \n",
      "2          70    usa         plymouth satellite  \n",
      "3          70    usa              amc rebel sst  \n",
      "4          70    usa                ford torino  \n",
      "5          70    usa           ford galaxie 500  \n",
      "6          70    usa           chevrolet impala  \n",
      "7          70    usa          plymouth fury iii  \n",
      "8          70    usa           pontiac catalina  \n",
      "9          70    usa         amc ambassador dpl  \n"
     ]
    }
   ],
   "source": [
    "import seaborn as sns\n",
    "\n",
    "# mpg veri setini seaborn kütüphanesinden yükleme\n",
    "mpg = sns.load_dataset('mpg')\n",
    "\n",
    "# Veri seti bilgilerini yazdırma\n",
    "print(\"Veri Seti Bilgileri:\")\n",
    "print(mpg.info())\n",
    "\n",
    "# Veri setinin ilk 10 satırını yazdırma\n",
    "print(\"\\nVeri Setinin İlk 10 Satırı:\")\n",
    "print(mpg.head(10))\n"
   ]
  },
  {
   "cell_type": "code",
   "execution_count": 22,
   "id": "7cfaead9",
   "metadata": {},
   "outputs": [
    {
     "name": "stdout",
     "output_type": "stream",
     "text": [
      "              mpg   cylinders  displacement  horsepower       weight  \\\n",
      "count  398.000000  398.000000    398.000000  392.000000   398.000000   \n",
      "mean    23.514573    5.454774    193.425879  104.469388  2970.424623   \n",
      "std      7.815984    1.701004    104.269838   38.491160   846.841774   \n",
      "min      9.000000    3.000000     68.000000   46.000000  1613.000000   \n",
      "25%     17.500000    4.000000    104.250000   75.000000  2223.750000   \n",
      "50%     23.000000    4.000000    148.500000   93.500000  2803.500000   \n",
      "75%     29.000000    8.000000    262.000000  126.000000  3608.000000   \n",
      "max     46.600000    8.000000    455.000000  230.000000  5140.000000   \n",
      "\n",
      "       acceleration  model_year  \n",
      "count    398.000000  398.000000  \n",
      "mean      15.568090   76.010050  \n",
      "std        2.757689    3.697627  \n",
      "min        8.000000   70.000000  \n",
      "25%       13.825000   73.000000  \n",
      "50%       15.500000   76.000000  \n",
      "75%       17.175000   79.000000  \n",
      "max       24.800000   82.000000  \n"
     ]
    }
   ],
   "source": [
    "import seaborn as sns\n",
    "\n",
    "# mpg veri setini seaborn kütüphanesinden yükleme\n",
    "mpg = sns.load_dataset('mpg')\n",
    "\n",
    "# Veri setinin istatistiksel özetini yazdırma\n",
    "istatistikler = mpg.describe()\n",
    "\n",
    "# Sonuçları yazdırma\n",
    "print(istatistikler)"
   ]
  },
  {
   "cell_type": "code",
   "execution_count": 23,
   "id": "71e8dc1c",
   "metadata": {},
   "outputs": [
    {
     "name": "stdout",
     "output_type": "stream",
     "text": [
      "Index(['mpg', 'cylinders', 'displacement', 'horsepower', 'weight',\n",
      "       'acceleration', 'model_year', 'origin', 'name'],\n",
      "      dtype='object')\n"
     ]
    },
    {
     "data": {
      "image/png": "[encoded data removed]",
      "text/plain": [
       "<Figure size 640x480 with 1 Axes>"
      ]
     },
     "metadata": {},
     "output_type": "display_data"
    }
   ],
   "source": [
    "import seaborn as sns\n",
    "import matplotlib.pyplot as plt\n",
    "\n",
    "# mpg veri setini seaborn kütüphanesinden yükleme\n",
    "mpg = sns.load_dataset('mpg')\n",
    "\n",
    "# Sütun adlarını kontrol etme ve doğru sütun adlarını kullanma\n",
    "print(mpg.columns)\n",
    "\n",
    "# Eksik değerleri içeren satırları çıkarma\n",
    "mpg = mpg.dropna(subset=['horsepower', 'weight', 'origin'])\n",
    "\n",
    "# \"horsepower\" ve \"weight\" için, \"origin\" kırılımına göre scatter plot oluşturma\n",
    "sns.scatterplot(data=mpg, x='horsepower', y='weight', hue='origin')\n",
    "\n",
    "# Grafik başlığını ekleme\n",
    "plt.title('Horsepower ve Weight için Scatter Plot (Origin Kırılımına Göre)')\n",
    "\n",
    "# Grafiği gösterme\n",
    "plt.show()"
   ]
  },
  {
   "cell_type": "code",
   "execution_count": 26,
   "id": "8afd5610",
   "metadata": {},
   "outputs": [
    {
     "name": "stdout",
     "output_type": "stream",
     "text": [
      "Kendall Korelasyon Katsayısı: 0.30109590846759365\n"
     ]
    }
   ],
   "source": [
    "import seaborn as sns\n",
    "from scipy.stats import kendalltau\n",
    "\n",
    "# mpg veri setini seaborn kütüphanesinden yükleme\n",
    "mpg = sns.load_dataset('mpg')\n",
    "\n",
    "# Eksik değerleri içeren satırları çıkarma\n",
    "mpg = mpg.dropna(subset=['mpg', 'acceleration'])\n",
    "\n",
    "# Kendall korelasyon katsayısını hesaplama\n",
    "kendall_corr, _ = kendalltau(mpg['mpg'], mpg['acceleration'])\n",
    "\n",
    "# Sonucu yazdırma\n",
    "print(f\"Kendall Korelasyon Katsayısı: {kendall_corr}\")"
   ]
  },
  {
   "cell_type": "code",
   "execution_count": 20,
   "id": "24db1e23",
   "metadata": {},
   "outputs": [
    {
     "name": "stdout",
     "output_type": "stream",
     "text": [
      "Intercept (Kesisim Noktası): 47.115174659445685\n",
      "Katsayılar: [-0.05492359 -0.02881278 -0.00580125]\n"
     ]
    }
   ],
   "source": [
    "import seaborn as sns\n",
    "import pandas as pd\n",
    "from sklearn.linear_model import LinearRegression\n",
    "from sklearn.model_selection import train_test_split\n",
    "\n",
    "# mpg veri setini seaborn kütüphanesinden yükleme\n",
    "mpg = sns.load_dataset('mpg')\n",
    "\n",
    "# Eksik değerleri içeren satırları çıkarma (horsepower, acceleration, weight, mpg sütunlarında eksik veri olabilir)\n",
    "mpg = mpg.dropna(subset=['horsepower', 'acceleration', 'weight', 'mpg'])\n",
    "\n",
    "# Özellikler ve hedef değişkeni ayarlama\n",
    "X = mpg[['horsepower', 'acceleration', 'weight']]  # Bağımsız değişkenler\n",
    "y = mpg['mpg']  # Bağımlı değişken (tahmin edilmek istenen)\n",
    "\n",
    "# Veri setini eğitim ve test olarak bölelim\n",
    "X_train, X_test, y_train, y_test = train_test_split(X, y, test_size=0.2, random_state=42)\n",
    "\n",
    "# LinearRegression modelini oluşturma\n",
    "model = LinearRegression()\n",
    "\n",
    "# Modeli eğitme\n",
    "model.fit(X_train, y_train)\n",
    "\n",
    "# Modelin intercept (kesisim noktası) ve katsayılarını yazdırma\n",
    "print(f\"Intercept (Kesisim Noktası): {model.intercept_}\")\n",
    "print(f\"Katsayılar: {model.coef_}\")\n"
   ]
  },
  {
   "cell_type": "code",
   "execution_count": 21,
   "id": "93fcb5d9",
   "metadata": {},
   "outputs": [
    {
     "name": "stdout",
     "output_type": "stream",
     "text": [
      "R-squared Değeri: 0.6510068285906105\n"
     ]
    }
   ],
   "source": [
    "import seaborn as sns\n",
    "from sklearn.linear_model import LinearRegression\n",
    "from sklearn.model_selection import train_test_split\n",
    "\n",
    "# mpg veri setini seaborn kütüphanesinden yükleme\n",
    "mpg = sns.load_dataset('mpg')\n",
    "\n",
    "# Eksik değerleri içeren satırları çıkarma (horsepower, acceleration, weight, mpg sütunlarında eksik veri olabilir)\n",
    "mpg = mpg.dropna(subset=['horsepower', 'acceleration', 'weight', 'mpg'])\n",
    "\n",
    "# Özellikler ve hedef değişkeni ayarlama\n",
    "X = mpg[['horsepower', 'acceleration', 'weight']]  # Bağımsız değişkenler\n",
    "y = mpg['mpg']  # Bağımlı değişken (tahmin edilmek istenen)\n",
    "\n",
    "# Veri setini eğitim ve test olarak bölelim\n",
    "X_train, X_test, y_train, y_test = train_test_split(X, y, test_size=0.2, random_state=42)\n",
    "\n",
    "# LinearRegression modelini oluşturma\n",
    "model = LinearRegression()\n",
    "\n",
    "# Modeli eğitme\n",
    "model.fit(X_train, y_train)\n",
    "\n",
    "# R-squared değerini yazdırma\n",
    "r_squared = model.score(X_test, y_test)\n",
    "print(f\"R-squared Değeri: {r_squared}\")"
   ]
  },
  {
   "cell_type": "code",
   "execution_count": 22,
   "id": "6be41317",
   "metadata": {},
   "outputs": [
    {
     "name": "stdout",
     "output_type": "stream",
     "text": [
      "Tahmin Edilen mpg Değeri: 19.296168929705317\n"
     ]
    }
   ],
   "source": [
    "import seaborn as sns\n",
    "from sklearn.linear_model import LinearRegression\n",
    "from sklearn.model_selection import train_test_split\n",
    "\n",
    "# mpg veri setini seaborn kütüphanesinden yükleme\n",
    "mpg = sns.load_dataset('mpg')\n",
    "\n",
    "# Eksik değerleri içeren satırları çıkarma (horsepower, acceleration, weight, mpg sütunlarında eksik veri olabilir)\n",
    "mpg = mpg.dropna(subset=['horsepower', 'acceleration', 'weight', 'mpg'])\n",
    "\n",
    "# Özellikler ve hedef değişkeni ayarlama\n",
    "X = mpg[['horsepower', 'acceleration', 'weight']]  # Bağımsız değişkenler\n",
    "y = mpg['mpg']  # Bağımlı değişken (tahmin edilmek istenen)\n",
    "\n",
    "# Veri setini eğitim ve test olarak bölelim\n",
    "X_train, X_test, y_train, y_test = train_test_split(X, y, test_size=0.2, random_state=42)\n",
    "\n",
    "# LinearRegression modelini oluşturma\n",
    "model = LinearRegression()\n",
    "\n",
    "# Modeli eğitme\n",
    "model.fit(X_train, y_train)\n",
    "\n",
    "# \"horsepower = 130\", \"acceleration = 13\", \"weight = 3500\" için mpg değerini tahmin etme\n",
    "tahmin_verisi = [[130, 13, 3500]]\n",
    "mpg_tahmini = model.predict(tahmin_verisi)\n",
    "\n",
    "# Tahmin edilen mpg değerini yazdırma\n",
    "print(f\"Tahmin Edilen mpg Değeri: {mpg_tahmini[0]}\")"
   ]
  },
  {
   "cell_type": "code",
   "execution_count": 23,
   "id": "0eb2dad8",
   "metadata": {},
   "outputs": [
    {
     "name": "stdout",
     "output_type": "stream",
     "text": [
      "    mpg  cylinders  displacement horsepower  weight  acceleration  model_year  \\\n",
      "0  18.0          8         307.0        130    3504          12.0          70   \n",
      "1  15.0          8         350.0        165    3693          11.5          70   \n",
      "2  18.0          8         318.0        150    3436          11.0          70   \n",
      "3  16.0          8         304.0        150    3433          12.0          70   \n",
      "4  17.0          8         302.0        140    3449          10.5          70   \n",
      "\n",
      "   origin                       name  \n",
      "0       1  chevrolet chevelle malibu  \n",
      "1       1          buick skylark 320  \n",
      "2       1         plymouth satellite  \n",
      "3       1              amc rebel sst  \n",
      "4       1                ford torino  \n",
      "Modelin doğruluk skoru: 79.75%\n",
      "mpg: 0.1651\n",
      "displacement: 0.3407\n",
      "horsepower: 0.1675\n",
      "weight: 0.2065\n",
      "acceleration: 0.1201\n"
     ]
    }
   ],
   "source": [
    "import pandas as pd\n",
    "from sklearn.model_selection import train_test_split\n",
    "from sklearn.ensemble import RandomForestClassifier\n",
    "from sklearn.metrics import accuracy_score\n",
    "\n",
    "# CSV dosyasını yükleyin\n",
    "mpg = pd.read_csv('C:/Users/asus/Desktop/mpg.csv')  # Dosya yolunu güncelleyin\n",
    "\n",
    "# Veriyi inceleyelim (ilk 5 satırı gösterelim)\n",
    "print(mpg.head())\n",
    "\n",
    "# Geçersiz '?' değerlerini sayısal 'NaN' olarak değiştirelim\n",
    "mpg['horsepower'] = pd.to_numeric(mpg['horsepower'], errors='coerce')\n",
    "\n",
    "# Eksik verileri temizleyelim (NaN değerlerini içeren satırları silelim)\n",
    "mpg = mpg.dropna(subset=['mpg', 'displacement', 'horsepower', 'weight', 'acceleration', 'origin'])\n",
    "\n",
    "# Eğitim ve test setlerine ayırma (80% eğitim, 20% test)\n",
    "X = mpg[['mpg', 'displacement', 'horsepower', 'weight', 'acceleration']]\n",
    "y = mpg['origin']\n",
    "\n",
    "X_train, X_test, y_train, y_test = train_test_split(X, y, test_size=0.2, random_state=42)\n",
    "\n",
    "# RandomForest sınıflandırma modelini oluşturuyoruz\n",
    "model = RandomForestClassifier(n_estimators=100, random_state=42)\n",
    "\n",
    "# Modeli eğitim verisiyle eğitiyoruz\n",
    "model.fit(X_train, y_train)\n",
    "\n",
    "# Test seti üzerinde tahmin yapalım\n",
    "y_pred = model.predict(X_test)\n",
    "\n",
    "# Doğruluk skorunu hesaplayalım\n",
    "accuracy = accuracy_score(y_test, y_pred)\n",
    "print(f\"Modelin doğruluk skoru: {accuracy * 100:.2f}%\")\n",
    "\n",
    "# Değişkenlerin önem derecelerini yazdıralım\n",
    "importances = model.feature_importances_\n",
    "feature_names = X.columns\n",
    "\n",
    "for feature, importance in zip(feature_names, importances):\n",
    "    print(f\"{feature}: {importance:.4f}\")\n"
   ]
  },
  {
   "cell_type": "code",
   "execution_count": 36,
   "id": "a5483bf8",
   "metadata": {},
   "outputs": [
    {
     "name": "stdout",
     "output_type": "stream",
     "text": [
      "    mpg  cylinders  displacement  horsepower  weight  acceleration  \\\n",
      "0  18.0          8         307.0       130.0    3504          12.0   \n",
      "1  15.0          8         350.0       165.0    3693          11.5   \n",
      "2  18.0          8         318.0       150.0    3436          11.0   \n",
      "3  16.0          8         304.0       150.0    3433          12.0   \n",
      "4  17.0          8         302.0       140.0    3449          10.5   \n",
      "\n",
      "   model_year origin                       name  \n",
      "0          70    usa  chevrolet chevelle malibu  \n",
      "1          70    usa          buick skylark 320  \n",
      "2          70    usa         plymouth satellite  \n",
      "3          70    usa              amc rebel sst  \n",
      "4          70    usa                ford torino  \n",
      "Modelin doğruluk skoru: 79.75%\n"
     ]
    },
    {
     "data": {
      "image/png": "[encoded data removed]",
      "text/plain": [
       "<Figure size 1000x600 with 1 Axes>"
      ]
     },
     "metadata": {},
     "output_type": "display_data"
    }
   ],
   "source": [
    "import pandas as pd\n",
    "import seaborn as sns\n",
    "from sklearn.model_selection import train_test_split\n",
    "from sklearn.ensemble import RandomForestClassifier\n",
    "from sklearn.metrics import accuracy_score\n",
    "import matplotlib.pyplot as plt\n",
    "\n",
    "# Seaborn'dan mpg veri setini yükleyin\n",
    "mpg = sns.load_dataset('mpg')\n",
    "\n",
    "# İlk birkaç satırı yazdırma\n",
    "print(mpg.head())\n",
    "\n",
    "# Geçersiz '?' değerlerini sayısal 'Na' olarak değiştirme\n",
    "mpg['horsepower'] = pd.to_numeric(mpg['horsepower'], errors='coerce')\n",
    "\n",
    "# Eksik verileri temizleme\n",
    "mpg = mpg.dropna(subset=['mpg', 'displacement', 'horsepower', 'weight', 'acceleration', 'origin'])\n",
    "\n",
    "# Eğitim ve test setine ayırma (80%,20%)\n",
    "X = mpg[['mpg', 'displacement', 'horsepower', 'weight', 'acceleration']]\n",
    "y = mpg['origin']\n",
    "\n",
    "X_train, X_test, y_train, y_test = train_test_split(X, y, test_size=0.2, random_state=42)\n",
    "\n",
    "# RandomForest sınıflandırma modeli\n",
    "model = RandomForestClassifier(n_estimators=100, random_state=42)\n",
    "\n",
    "# Modeli eğitim verisiyle eğitme\n",
    "model.fit(X_train, y_train)\n",
    "\n",
    "# Test seti üzerinde tahmin yapma\n",
    "y_pred = model.predict(X_test)\n",
    "\n",
    "# Doğruluk skoru\n",
    "accuracy = accuracy_score(y_test, y_pred)\n",
    "print(f\"Modelin doğruluk skoru: {accuracy * 100:.2f}%\")\n",
    "\n",
    "# Özellik önem derecelerini çıkarma\n",
    "importances = model.feature_importances_\n",
    "feature_names = X.columns\n",
    "\n",
    "# Özellik önem derecelerini görselleştirme\n",
    "plt.figure(figsize=(10, 6))\n",
    "plt.barh(feature_names, importances, color='skyblue')\n",
    "plt.xlabel('Özellik Önem Derecesi')\n",
    "plt.ylabel('Özellikler')\n",
    "plt.title('Özelliklerin Önem Dereceleri')\n",
    "plt.show()"
   ]
  },
  {
   "cell_type": "code",
   "execution_count": null,
   "id": "ea98098e",
   "metadata": {},
   "outputs": [],
   "source": [
    "import warnings\n",
    "import numpy as np\n",
    "import matplotlib.pyplot as plt\n",
    "\n",
    "# Uyarılar gelmesin\n",
    "warnings.filterwarnings('ignore')\n",
    "\n",
    "# [0-20] arasında rastgele 10x2 boyutunda matris oluşturma\n",
    "matris = np.random.randint(0, 21, size=(10, 2))\n",
    "\n",
    "# Matrisi ekrana yazdırma\n",
    "print(\"Rastgele Matris:\")\n",
    "print(matris)\n",
    "\n",
    "# Matrisin görselleştirilmesi\n",
    "plt.figure(figsize=(8, 6))\n",
    "plt.scatter(matris[:, 0], matris[:, 1], color='blue')\n",
    "plt.title('Rastgele Matrisin Görselleştirilmesi')\n",
    "plt.xlabel('Özellik 1')\n",
    "plt.ylabel('Özellik 2')\n",
    "plt.grid(True)\n",
    "plt.show()"
   ]
  },
  {
   "cell_type": "code",
   "execution_count": null,
   "id": "289e4a9f",
   "metadata": {},
   "outputs": [],
   "source": [
    "import warnings\n",
    "import numpy as np\n",
    "import matplotlib.pyplot as plt\n",
    "\n",
    "# Uyarılar gelmesin\n",
    "warnings.filterwarnings('ignore')\n",
    "\n",
    "# [0-20] arasında rastgele 10x2 boyutunda matris oluşturma\n",
    "matris = np.random.randint(0, 21, size=(10, 2))\n",
    "\n",
    "# Matrisi ekrana yazdırma\n",
    "print(\"Rastgele Matris:\")\n",
    "print(matris)\n",
    "\n",
    "# Matrisin görselleştirilmesi\n",
    "plt.figure(figsize=(8, 6))\n",
    "plt.scatter(matris[:, 0], matris[:, 1], color='blue')\n",
    "plt.title('Rastgele Matrisin Görselleştirilmesi')\n",
    "plt.xlabel('Özellik 1')\n",
    "plt.ylabel('Özellik 2')\n",
    "plt.grid(True)\n",
    "plt.show()"
   ]
  },
  {
   "cell_type": "code",
   "execution_count": null,
   "id": "d6183a43",
   "metadata": {},
   "outputs": [],
   "source": [
    "import warnings\n",
    "import numpy as np\n",
    "import matplotlib.pyplot as plt\n",
    "\n",
    "# Uyarılar gelmesin\n",
    "warnings.filterwarnings('ignore')\n",
    "\n",
    "# [0-20] arasında rastgele 10x2 boyutunda matris oluşturma\n",
    "matris = np.random.randint(0, 21, size=(10, 2))\n",
    "\n",
    "# Matrisi ekrana yazdırma\n",
    "print(\"Rastgele Matris:\")\n",
    "print(matris)\n",
    "\n",
    "# Matrisin görselleştirilmesi\n",
    "plt.figure(figsize=(8, 6))\n",
    "plt.scatter(matris[:, 0], matris[:, 1], color='blue')\n",
    "plt.title('Rastgele Matrisin Görselleştirilmesi')\n",
    "plt.xlabel('Özellik 1')\n",
    "plt.ylabel('Özellik 2')\n",
    "plt.grid(True)\n",
    "plt.show()"
   ]
  },
  {
   "cell_type": "code",
   "execution_count": null,
   "id": "ce05803e",
   "metadata": {},
   "outputs": [],
   "source": [
    "import warnings\n",
    "import numpy as np\n",
    "import matplotlib.pyplot as plt\n",
    "\n",
    "# Uyarılar gelmesin\n",
    "warnings.filterwarnings('ignore')\n",
    "\n",
    "# [0-20] arasında rastgele 10x2 boyutunda matris oluşturma\n",
    "matris = np.random.randint(0, 21, size=(10, 2))\n",
    "\n",
    "# Matrisi ekrana yazdırma\n",
    "print(\"Rastgele Matris:\")\n",
    "print(matris)\n",
    "\n",
    "# Matrisin görselleştirilmesi\n",
    "plt.figure(figsize=(8, 6))\n",
    "plt.scatter(matris[:, 0], matris[:, 1], color='blue')\n",
    "plt.title('Rastgele Matrisin Görselleştirilmesi')\n",
    "plt.xlabel('Özellik 1')\n",
    "plt.ylabel('Özellik 2')\n",
    "plt.grid(True)\n",
    "plt.show()"
   ]
  },
  {
   "cell_type": "code",
   "execution_count": null,
   "id": "decdb4c5",
   "metadata": {},
   "outputs": [],
   "source": [
    "import warnings\n",
    "import numpy as np\n",
    "import matplotlib.pyplot as plt\n",
    "\n",
    "# Uyarılar gelmesin\n",
    "warnings.filterwarnings('ignore')\n",
    "\n",
    "# [0-20] arasında rastgele 10x2 boyutunda matris oluşturma\n",
    "matris = np.random.randint(0, 21, size=(10, 2))\n",
    "\n",
    "# Matrisi ekrana yazdırma\n",
    "print(\"Rastgele Matris:\")\n",
    "print(matris)\n",
    "\n",
    "# Matrisin görselleştirilmesi\n",
    "plt.figure(figsize=(8, 6))\n",
    "plt.scatter(matris[:, 0], matris[:, 1], color='blue')\n",
    "plt.title('Rastgele Matrisin Görselleştirilmesi')\n",
    "plt.xlabel('Özellik 1')\n",
    "plt.ylabel('Özellik 2')\n",
    "plt.grid(True)\n",
    "plt.show()"
   ]
  },
  {
   "cell_type": "code",
   "execution_count": null,
   "id": "7ccfbc3a",
   "metadata": {},
   "outputs": [],
   "source": [
    "import warnings\n",
    "import numpy as np\n",
    "import matplotlib.pyplot as plt\n",
    "\n",
    "# Uyarılar gelmesin\n",
    "warnings.filterwarnings('ignore')\n",
    "\n",
    "# [0-20] arasında rastgele 10x2 boyutunda matris oluşturma\n",
    "matris = np.random.randint(0, 21, size=(10, 2))\n",
    "\n",
    "# Matrisi ekrana yazdırma\n",
    "print(\"Rastgele Matris:\")\n",
    "print(matris)\n",
    "\n",
    "# Matrisin görselleştirilmesi\n",
    "plt.figure(figsize=(8, 6))\n",
    "plt.scatter(matris[:, 0], matris[:, 1], color='blue')\n",
    "plt.title('Rastgele Matrisin Görselleştirilmesi')\n",
    "plt.xlabel('Özellik 1')\n",
    "plt.ylabel('Özellik 2')\n",
    "plt.grid(True)\n",
    "plt.show()"
   ]
  },
  {
   "cell_type": "code",
   "execution_count": 34,
   "id": "8295b6e8",
   "metadata": {},
   "outputs": [
    {
     "name": "stdout",
     "output_type": "stream",
     "text": [
      "  Değişkenler   Önemler\n",
      "0    özellik1  0.666667\n",
      "1    özellik2  0.333333\n"
     ]
    }
   ],
   "source": [
    "# Değişkenlerin önem dereceleri\n",
    "importances = model.feature_importances_\n",
    "\n",
    "# Değişken adları\n",
    "feature_names = X.columns\n",
    "\n",
    "# Önem derecelerini bir DataFrame'e koyarak sıralama\n",
    "importances_df = pd.DataFrame({\n",
    "    'Değişkenler': feature_names,\n",
    "    'Önemler': importances\n",
    "})\n",
    "\n",
    "# Özellikleri önem sırasıyla sıralama\n",
    "importances_df = importances_df.sort_values(by='Önemler', ascending=False)\n",
    "\n",
    "# Sonuçlar\n",
    "print(importances_df)"
   ]
  }
 ],
 "metadata": {
  "kernelspec": {
   "display_name": "Python 3",
   "language": "python",
   "name": "python3"
  },
  "language_info": {
   "codemirror_mode": {
    "name": "ipython",
    "version": 3
   },
   "file_extension": ".py",
   "mimetype": "text/x-python",
   "name": "python",
   "nbconvert_exporter": "python",
   "pygments_lexer": "ipython3",
   "version": "3.8.10"
  }
 },
 "nbformat": 4,
 "nbformat_minor": 5
}
